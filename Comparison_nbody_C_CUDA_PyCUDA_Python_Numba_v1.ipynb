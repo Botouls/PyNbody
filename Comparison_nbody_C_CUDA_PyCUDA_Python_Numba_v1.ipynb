{
  "nbformat": 4,
  "nbformat_minor": 0,
  "metadata": {
    "colab": {
      "name": "Comparison_nbody_C_CUDA_PyCUDA_Python_Numba_v1.ipynb",
      "version": "0.3.2",
      "provenance": [],
      "collapsed_sections": []
    },
    "kernelspec": {
      "display_name": "Python 3",
      "language": "python",
      "name": "python3"
    }
  },
  "cells": [
    {
      "metadata": {
        "id": "ruptSPR6RzkO",
        "colab_type": "text"
      },
      "cell_type": "markdown",
      "source": [
        "# <center> Benchmark Comparison</center>\n",
        "# <center> Gravitational N-Body on Python x Python NumPy x </center>\n",
        "# <center> Python Numba CPU x Python Numba CPU // x Python Numba GPU 64 bits </center>\n",
        "## <center> 22/11/2018 a 22/02/2019 </center>\n",
        "## <center> $M = 1$ step, $dt = 0.01$, $N = 32^3 = 32K$ bodies in a homogeneous cube</center>\n"
      ]
    },
    {
      "metadata": {
        "id": "m5gg6y6_RzkP",
        "colab_type": "text"
      },
      "cell_type": "markdown",
      "source": [
        "Computers used:"
      ]
    },
    {
      "metadata": {
        "id": "xLqt6RGyRzkR",
        "colab_type": "text"
      },
      "cell_type": "markdown",
      "source": [
        "#### Roberto Colistete Jr.'s Computers :  \n",
        "- **Notebook Dell XPS 15** CPU [**Intel Core i7 2670QM**](https://ark.intel.com/products/53469/Intel-Core-i7-2670QM-Processor-6M-Cache-up-to-3-10-GHz-) 2,2-3,1 GHz 4 cores/8 threads 6MB cache with integrated  GPU Intel HD Graphics 3000 & dedicated GPU [**NVidia GeForce GPU GT 540M**](https://www.geforce.com/hardware/notebook-gpus/geforce-gt-540m/specifications) 2GB 96 cores CC2.1.  \n",
        "Manjaro KDE 18.0.2 64 bits, kernel 4.20.1, gcc 8.2.1, driver NVidia 390.87, CUDA 8.0.  \n",
        "Anaconda 3 2018-12, Python 3.7.1, NumPy 1.15.4, PyCUDA 2018.1.1 (Python 2.7.15), Numba 0.41.0 com CUDAToolkit 8.0.\n",
        "- **Notebook Dell G3 15 3579** CPU [**Intel Core i7 8750H**](https://ark.intel.com/products/134906/Intel-Core-i7-8750H-Processor-9M-Cache-up-to-4-10-GHz-) Kaby Lake 2,2-4,1 GHz 6 cores/12 threads 9MB cache with integrated GPU Intel UHD Graphics 630 & dedicated GPU [**NVidia GeForce GTX 1050 Ti Mobile**](https://www.nvidia.com/en-us/geforce/products/10series/laptops/) 4GB 768 cores CC6.1.   \n",
        "Manjaro KDE 18.0.2 64 bits, kernel 4.20.1, gcc 8.2.1, driver NVidia 415.25, CUDA 10.0.  \n",
        "Anaconda 3 2018-12, Python 3.7.1, NumPy 1.15.4, PyCUDA 2018.1.1 (Python 2.7.15), Numba 0.41.0 com CUDAToolkit 9.2.\n",
        "- **Notebook Dell Latitude E7440** CPU [**Intel Core i5 4310U**](https://ark.intel.com/products/80343/Intel-Core-i5-4310U-Processor-3M-Cache-up-to-3-00-GHz-) 2,0-3,0 GHz 2 cores/4 threads 3MB cache with integrated GPU Intel HD Graphics 4400.   \n",
        "MX Linux 18.0 64 bits, kernel 4.19.0, gcc 6.3.0. Anaconda 3 2018-12, Python 3.7.1, NumPy 1.15.4, Numba 0.41.0.\n",
        "##### Roberto Colistete Jr.'s Smartphone' :  \n",
        "- [**Smartphone Gemini 4G**](https://store.planetcom.co.uk/collections/gemini-pda/products/gemini-pda-1) CPU ARM [**MediaTek MT6797X Helio X27**](https://www.notebookcheck.net/MediaTek-Helio-X27-MT6797X-SoC-Benchmarks-and-Specs.320196.0.html) 2x Cortex A72 @ 2.6 GHz, 4x Cortex A53 @ 2.0 GHz, 4x Cortex A53 @ 1.6 GHz, with integrated GPU Quad Core ARM Mali T880 MP4 @ 875MHz.  \n",
        "Debian 9.6 LXQt ARM 64 bits, kernel 3.18.41, gcc 6.3.0. Python 3.5.3, NumPy 1.15.0, Numba 0.35.0.   \n",
        "\n",
        "#### **Google Colab(oratory) Cloud Computer** :  \n",
        "- Server with CPU [**Intel Xeon** E5-2699 (ou semelhante)](https://ark.intel.com/pt-br/products/81061/Intel-Xeon-Processor-E5-2699-v3-45M-Cache-2-30-GHz-) 2,3-3,6 GHz 18 cores/36 threads 45MB cache & GPU dedicada [**NVidia Tesla K80**](https://www.nvidia.com.br/object/tesla-k80-br.html) 24GB 2x2496 cores CC3.7.  \n",
        "Accessible via Google Colab: Xeon 2 cores 12-13GB de RAM, K80 with (possibly) 2496 cores e 11GB de RAM.  \n",
        "Ubuntu 18.04.1 64 bits, kernel 4.14.79, gcc 7.3.0. Python 3.6.7, NumPy 1.14.6, Numba 0.40.1 com CUDA 9.2.\n",
        "\n",
        "#### Flávio Manoel Santos Hemerli's Computer:   \n",
        "- **Notebook Lenovo Ideapad 320** CPU [**Intel Core i5 7200U**](https://ark.intel.com/pt-br/products/95443/Intel-Core-i5-7200U-Processor-3M-Cache-up-to-3-10-GHz-) 2,5-3,1 GHz 2 cores/4 threads 3MB cache with integrated GPU Intel HD Graphics 620.\n",
        "Manjaro Deepin 18.0 64 bits. Anaconda 3 2018-12, Python 3.7.1, NumPy 1.15.4, Numba 0.41.0"
      ]
    },
    {
      "metadata": {
        "id": "MlniyeZcRzkR",
        "colab_type": "text"
      },
      "cell_type": "markdown",
      "source": [
        "| Tool \\ Computer time    | Dell G3 | Google Colab | Lenovo Ideapad 320  | Gemini | RPi Zero | RPi 3B+ |\n",
        "| --------------------------- | ---------------- | --------- | -------------------- | ------------ | ------------------- | ---------- \n",
        "| C                              |                 |    |            |                        |                |                       |                                   \n",
        "| C OpenMP //               | |   |   |       |   |      | |        \n",
        "| Python                 |        |    1124.351219 s |   901.008028 s | |       |      |              \n",
        "| Python NumPy                |  |     52.851517 s | 47.639086 s |    |           |       |\n",
        "| Python Numba              |  |  10.242123 s |6.554241 s |  |       |            |\n",
        "| Python NumPy Numba         |  |  39.379604 s | 24.690848 s|  |                 |     |\n",
        "| Python Numba //        |    |   9.477498 s | 3.121972 s |       |                    ||\n",
        "| Python NumPy Numba //     |   |  25.358395 s | 22.016941 s |     |   |        |\n",
        "| CUDA SP                |    |  |     -   |   -    |     -   | -   |     \n",
        "| CUDA kernel SP         |   |  |     -   |   -    |     -   |    -   |\n",
        "| CUDA DP                |    |  |     -   |   -    |     -   |     -   |  \n",
        "| CUDA kernel DP         |    |  |     -   |   -    |     -   |        -   |\n",
        "| PyCUDA SP              |    |    |     -   |   -    |     -   |      -   |\n",
        "| PyCUDA kernel SP       |    |  |     -   |   -    |     -   |      -   |\n",
        "| PyCUDA DP              |    ||     -   |   -    |     -   |     -   |    \n",
        "| PyCUDA kernel DP         |  | |     -   |   -    |     -   |     -   |\n",
        "| Numba GPU vectorize SP |    | |     -   |   -    |          -   | -   |\n",
        "| Numba GPU SP           |     |  |     -   |   -    |          -   | -   |\n",
        "| Numba GPU kernel SP    |    |  |     -   |   -    |          -   | -   |\n",
        "| Numba GPU vectorize DP |     |   |     -   |   -    |         -   | -   |\n",
        "| Numba GPU DP           |   |  |       -   |   -    |     -   |     -   |     \n",
        "| Numba GPU kernel DP  |      | 0.635123 s |     -   |   -    |     -   |   -   |"
      ]
    }
  ]
}
