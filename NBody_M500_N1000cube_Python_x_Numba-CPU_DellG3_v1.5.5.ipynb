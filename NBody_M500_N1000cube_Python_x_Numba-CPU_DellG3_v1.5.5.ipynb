{
 "cells": [
  {
   "cell_type": "markdown",
   "metadata": {},
   "source": [
    "# <center> N-Body gravitacional em Python x Python NumPy x </center>\n",
    "# <center> Python Numba CPU x Python Numba CPU // </center>\n",
    "## <center> v1.5.5 - 22/11/2018 a 15/02/2019 </center>\n",
    "## <center> $M = 500$ passos, $dt = 0.001$, $N = 1000$ corpos em cubo homogêneo</center>"
   ]
  },
  {
   "cell_type": "markdown",
   "metadata": {
    "heading_collapsed": true
   },
   "source": [
    "### Autoria da v1.0, v1.3, v1.4 : Flávio Manoel Santos Hemerli\n",
    "#### Revisão v1.1, v1.2, v1.3.1, v1.4.1, v1.4.6-9, v1.5.0-5 : Roberto Colistete Júnior"
   ]
  },
  {
   "cell_type": "markdown",
   "metadata": {
    "hidden": true
   },
   "source": [
    "Computador do prof. Roberto Colistete Jr. :  \n",
    "**Notebook Dell XPS 15** com CPU [**Intel Core i7 2670QM**](https://ark.intel.com/products/53469/Intel-Core-i7-2670QM-Processor-6M-Cache-up-to-3-10-GHz-) 2,2-3,1 GHz 4 cores/8 threads 6MB cache com GPU integrada Intel HD Graphics 3000 & GPU dedicada [**NVidia GeForce GPU GT 540M**](https://www.geforce.com/hardware/notebook-gpus/geforce-gt-540m/specifications) 2GB 96 cores CC2.1.  \n",
    "Manjaro KDE 18.0.2 64 bits, kernel 4.20.3, gcc 8.2.1, driver NVidia 390.87, CUDA 8.0.  \n",
    "Anaconda 3 2018-12, Python 3.7.1, NumPy 1.15.4, PyCUDA 2018.1.1 (Python 2.7.15), Numba 0.41.0 com CUDAToolkit 8.0."
   ]
  },
  {
   "cell_type": "markdown",
   "metadata": {
    "hidden": true
   },
   "source": [
    "-> Computador do prof. Roberto Colistete Jr. :  \n",
    "**Notebook Dell G3 15 3579** com CPU [**Intel Core i7 8750H**](https://ark.intel.com/products/134906/Intel-Core-i7-8750H-Processor-9M-Cache-up-to-4-10-GHz-) Kaby Lake 2,2-4,1 GHz 6 cores/12 threads 9MB cache com GPU integrada Intel UHD Graphics 630 & GPU dedicada [**NVidia GeForce GTX 1050 Ti Mobile**](https://www.nvidia.com/en-us/geforce/products/10series/laptops/) 4GB 768 cores CC6.1.   \n",
    "Manjaro KDE 18.0.2 64 bits, kernel 4.20.1, gcc 8.2.1, driver NVidia 415.25, CUDA 10.0.  \n",
    "Anaconda 3 2018-12, Python 3.7.1, NumPy 1.15.4, PyCUDA 2018.1.1 (Python 2.7.15), Numba 0.41.0 com CUDAToolkit 9.2."
   ]
  },
  {
   "cell_type": "markdown",
   "metadata": {
    "hidden": true
   },
   "source": [
    "Computador do aluno Flávio Manoel Santos Hemerli:   \n",
    "**Notebook Lenovo Ideapad 320** com CPU [**Intel Core i5 7200U**](https://ark.intel.com/pt-br/products/95443/Intel-Core-i5-7200U-Processor-3M-Cache-up-to-3-10-GHz-) 2,5-3,1 GHz 2 cores/4 threads 3MB cache com GPU integrada Intel HD Graphics 620. 8GB RAM DDR4 2133MHz Dual Channel.  \n",
    "Manjaro Deepin 18.0 64 bits. Anaconda 3 2018-12, Python 3.7.1, NumPy 1.15.4, Numba 0.41.0"
   ]
  },
  {
   "cell_type": "markdown",
   "metadata": {
    "heading_collapsed": true
   },
   "source": [
    "### Inicialização"
   ]
  },
  {
   "cell_type": "code",
   "execution_count": 1,
   "metadata": {
    "ExecuteTime": {
     "end_time": "2019-02-16T00:17:44.174932Z",
     "start_time": "2019-02-16T00:17:43.924774Z"
    },
    "hidden": true
   },
   "outputs": [],
   "source": [
    "import math\n",
    "import numpy as np\n",
    "from timeit import default_timer as timer\n",
    "import numba as nb\n",
    "from numba import jit, njit, prange"
   ]
  },
  {
   "cell_type": "markdown",
   "metadata": {
    "heading_collapsed": true
   },
   "source": [
    "### Informação sobre versão de Linux, CPU :"
   ]
  },
  {
   "cell_type": "code",
   "execution_count": 2,
   "metadata": {
    "ExecuteTime": {
     "end_time": "2019-02-16T00:17:44.656722Z",
     "start_time": "2019-02-16T00:17:44.177570Z"
    },
    "hidden": true
   },
   "outputs": [
    {
     "name": "stdout",
     "output_type": "stream",
     "text": [
      "Linux nautilus9 4.20.7-1-MANJARO #1 SMP PREEMPT Wed Feb 6 21:54:48 UTC 2019 x86_64 GNU/Linux\r\n"
     ]
    }
   ],
   "source": [
    "!uname -a"
   ]
  },
  {
   "cell_type": "code",
   "execution_count": 3,
   "metadata": {
    "ExecuteTime": {
     "end_time": "2019-02-16T00:17:45.160660Z",
     "start_time": "2019-02-16T00:17:44.664581Z"
    },
    "hidden": true
   },
   "outputs": [
    {
     "name": "stdout",
     "output_type": "stream",
     "text": [
      "LSB Version:\tn/a\r\n",
      "Distributor ID:\tManjaroLinux\r\n",
      "Description:\tManjaro Linux\r\n",
      "Release:\t18.0.2\r\n",
      "Codename:\tIllyria\r\n"
     ]
    }
   ],
   "source": [
    "!lsb_release -a"
   ]
  },
  {
   "cell_type": "code",
   "execution_count": 4,
   "metadata": {
    "ExecuteTime": {
     "end_time": "2019-02-16T00:17:45.674612Z",
     "start_time": "2019-02-16T00:17:45.170487Z"
    },
    "hidden": true
   },
   "outputs": [
    {
     "name": "stdout",
     "output_type": "stream",
     "text": [
      "Arquitetura:                x86_64\r\n",
      "Modo(s) operacional da CPU: 32-bit, 64-bit\r\n",
      "Ordem dos bytes:            Little Endian\r\n",
      "Tamanhos de endereço:       39 bits physical, 48 bits virtual\r\n",
      "CPU(s):                     12\r\n",
      "Lista de CPU(s) on-line:    0-11\r\n",
      "Thread(s) per núcleo:       2\r\n",
      "Núcleo(s) por soquete:      6\r\n",
      "Soquete(s):                 1\r\n",
      "Nó(s) de NUMA:              1\r\n",
      "ID de fornecedor:           GenuineIntel\r\n",
      "Família da CPU:             6\r\n",
      "Modelo:                     158\r\n",
      "Nome do modelo:             Intel(R) Core(TM) i7-8750H CPU @ 2.20GHz\r\n",
      "Step:                       10\r\n",
      "CPU MHz:                    3989.018\r\n",
      "CPU MHz máx.:               4100,0000\r\n",
      "CPU MHz mín.:               800,0000\r\n",
      "BogoMIPS:                   4417.00\r\n",
      "Virtualização:              VT-x\r\n",
      "cache de L1d:               32K\r\n",
      "cache de L1i:               32K\r\n",
      "cache de L2:                256K\r\n",
      "cache de L3:                9216K\r\n",
      "CPU(s) de nó0 NUMA:         0-11\r\n",
      "Opções:                     fpu vme de pse tsc msr pae mce cx8 apic sep mtrr pge mca cmov pat pse36 clflush dts acpi mmx fxsr sse sse2 ss ht tm pbe syscall nx pdpe1gb rdtscp lm constant_tsc art arch_perfmon pebs bts rep_good nopl xtopology nonstop_tsc cpuid aperfmperf tsc_known_freq pni pclmulqdq dtes64 monitor ds_cpl vmx est tm2 ssse3 sdbg fma cx16 xtpr pdcm pcid sse4_1 sse4_2 x2apic movbe popcnt tsc_deadline_timer aes xsave avx f16c rdrand lahf_lm abm 3dnowprefetch cpuid_fault epb invpcid_single pti ssbd ibrs ibpb stibp tpr_shadow vnmi flexpriority ept vpid ept_ad fsgsbase tsc_adjust bmi1 avx2 smep bmi2 erms invpcid mpx rdseed adx smap clflushopt intel_pt xsaveopt xsavec xgetbv1 xsaves dtherm ida arat pln pts hwp hwp_notify hwp_act_window hwp_epp flush_l1d\r\n"
     ]
    }
   ],
   "source": [
    "!lscpu"
   ]
  },
  {
   "cell_type": "markdown",
   "metadata": {
    "hidden": true
   },
   "source": [
    "Versão de gcc :"
   ]
  },
  {
   "cell_type": "code",
   "execution_count": 5,
   "metadata": {
    "ExecuteTime": {
     "end_time": "2019-02-16T00:17:46.173274Z",
     "start_time": "2019-02-16T00:17:45.682907Z"
    },
    "hidden": true
   },
   "outputs": [
    {
     "name": "stdout",
     "output_type": "stream",
     "text": [
      "gcc (GCC) 8.2.1 20181127\r\n",
      "Copyright (C) 2018 Free Software Foundation, Inc.\r\n",
      "This is free software; see the source for copying conditions.  There is NO\r\n",
      "warranty; not even for MERCHANTABILITY or FITNESS FOR A PARTICULAR PURPOSE.\r\n",
      "\r\n"
     ]
    }
   ],
   "source": [
    "!gcc --version"
   ]
  },
  {
   "cell_type": "markdown",
   "metadata": {
    "hidden": true
   },
   "source": [
    "Versão de Python :"
   ]
  },
  {
   "cell_type": "code",
   "execution_count": 6,
   "metadata": {
    "ExecuteTime": {
     "end_time": "2019-02-16T00:17:46.658612Z",
     "start_time": "2019-02-16T00:17:46.178476Z"
    },
    "hidden": true,
    "scrolled": true
   },
   "outputs": [
    {
     "name": "stdout",
     "output_type": "stream",
     "text": [
      "Python 3.7.1\r\n"
     ]
    }
   ],
   "source": [
    "!python --version"
   ]
  },
  {
   "cell_type": "markdown",
   "metadata": {
    "hidden": true
   },
   "source": [
    "Versão de NumPy :"
   ]
  },
  {
   "cell_type": "code",
   "execution_count": 7,
   "metadata": {
    "ExecuteTime": {
     "end_time": "2019-02-16T00:17:46.678684Z",
     "start_time": "2019-02-16T00:17:46.666373Z"
    },
    "hidden": true
   },
   "outputs": [
    {
     "data": {
      "text/plain": [
       "'1.15.4'"
      ]
     },
     "execution_count": 7,
     "metadata": {},
     "output_type": "execute_result"
    }
   ],
   "source": [
    "np.__version__"
   ]
  },
  {
   "cell_type": "markdown",
   "metadata": {
    "hidden": true
   },
   "source": [
    "Versão de Numba :"
   ]
  },
  {
   "cell_type": "code",
   "execution_count": 8,
   "metadata": {
    "ExecuteTime": {
     "end_time": "2019-02-16T00:17:46.691526Z",
     "start_time": "2019-02-16T00:17:46.682472Z"
    },
    "hidden": true
   },
   "outputs": [
    {
     "data": {
      "text/plain": [
       "'0.41.0'"
      ]
     },
     "execution_count": 8,
     "metadata": {},
     "output_type": "execute_result"
    }
   ],
   "source": [
    "nb.__version__"
   ]
  },
  {
   "cell_type": "code",
   "execution_count": 9,
   "metadata": {
    "ExecuteTime": {
     "end_time": "2019-02-16T00:17:46.698226Z",
     "start_time": "2019-02-16T00:17:46.693619Z"
    },
    "hidden": true
   },
   "outputs": [
    {
     "data": {
      "text/plain": [
       "12"
      ]
     },
     "execution_count": 9,
     "metadata": {},
     "output_type": "execute_result"
    }
   ],
   "source": [
    "nb.config.NUMBA_DEFAULT_NUM_THREADS"
   ]
  },
  {
   "cell_type": "markdown",
   "metadata": {
    "heading_collapsed": true
   },
   "source": [
    "### Definições de nbody para Python puro, Numba CPU e Numba CPU //"
   ]
  },
  {
   "cell_type": "code",
   "execution_count": 10,
   "metadata": {
    "ExecuteTime": {
     "end_time": "2019-02-16T00:17:46.703252Z",
     "start_time": "2019-02-16T00:17:46.700542Z"
    },
    "hidden": true
   },
   "outputs": [],
   "source": [
    "G = 6.67408*1e-11 # define a constante gravitacional\n",
    "sft = 1e-10 # define a constante de atenuamento para tratamento das singularidades"
   ]
  },
  {
   "cell_type": "code",
   "execution_count": 11,
   "metadata": {
    "ExecuteTime": {
     "end_time": "2019-02-16T00:17:46.766134Z",
     "start_time": "2019-02-16T00:17:46.705759Z"
    },
    "code_folding": [],
    "hidden": true
   },
   "outputs": [],
   "source": [
    "@njit\n",
    "def gravitationalNbody_NumbaCPU(r, v, a, m, nobj, ninter, dt):\n",
    "    for inter in range(ninter):\n",
    "        for i in range(nobj):\n",
    "            a[i][0] = 0.0; a[i][1] = 0.0; a[i][2] = 0.0\n",
    "            for j in range(nobj):\n",
    "                if i != j:\n",
    "                    # calculate a_ij acceleration\n",
    "                    dx = r[j][0] - r[i][0]; dy = r[j][1] - r[i][1]; dz = r[j][2] - r[i][2]\n",
    "                    dsq = dx*dx + dy*dy + dz*dz + sft*sft\n",
    "                    gA = (G*m[j])/(dsq*math.sqrt(dsq))\n",
    "                    # sum a_ij_x to a_i_x, etc\n",
    "                    a[i][0] += gA*dx; a[i][1] += gA*dy; a[i][2] += gA*dz\n",
    "            # update the v_i velocity\n",
    "            v[i][0] += a[i][0]*dt; v[i][1] += a[i][1]*dt; v[i][2] += a[i][2]*dt\n",
    "        for i in range(nobj):\n",
    "            # update the r_i position\n",
    "            r[i][0] += v[i][0]*dt; r[i][1] += v[i][1]*dt; r[i][2] += v[i][2]*dt\n",
    "    K = 0.0; U = 0.0\n",
    "    for i in range(nobj):\n",
    "        # Sum the total kinectic energy\n",
    "        K += 0.5*m[i]*(v[i][0]**2 + v[i][1]**2 + v[i][2]**2)\n",
    "        for j in range(nobj):\n",
    "            if (i < j):\n",
    "                # Sum the total potential energy\n",
    "                U += (-G*m[i]*m[j])/math.sqrt((r[j][0] - r[i][0])**2 + (r[j][1] - r[i][1])**2 + \n",
    "                                              (r[j][2] - r[i][2])**2 + sft**2)\n",
    "    return K, U"
   ]
  },
  {
   "cell_type": "code",
   "execution_count": 12,
   "metadata": {
    "ExecuteTime": {
     "end_time": "2019-02-16T00:17:46.785120Z",
     "start_time": "2019-02-16T00:17:46.768285Z"
    },
    "code_folding": [],
    "hidden": true
   },
   "outputs": [],
   "source": [
    "@njit(parallel=True)\n",
    "def gravitationalNbody_NumbaCPUparallel(r, v, a, m, nobj, ninter, dt):\n",
    "    for inter in range(ninter):\n",
    "        for i in prange(nobj):\n",
    "            a[i][0] = 0.0; a[i][1] = 0.0; a[i][2] = 0.0\n",
    "            for j in range(nobj):\n",
    "                if i != j:\n",
    "                    # calculate a_ij acceleration\n",
    "                    dx = r[j][0] - r[i][0]; dy = r[j][1] - r[i][1]; dz = r[j][2] - r[i][2]\n",
    "                    dsq = dx*dx + dy*dy + dz*dz + sft*sft\n",
    "                    gA = (G*m[j])/(dsq*math.sqrt(dsq))\n",
    "                    # sum a_ij_x to a_i_x, etc\n",
    "                    a[i][0] += gA*dx; a[i][1] += gA*dy; a[i][2] += gA*dz\n",
    "            # update the v_i velocity\n",
    "            v[i][0] += a[i][0]*dt; v[i][1] += a[i][1]*dt; v[i][2] += a[i][2]*dt\n",
    "        for i in prange(nobj):\n",
    "            # update the r_i position\n",
    "            r[i][0] += v[i][0]*dt; r[i][1] += v[i][1]*dt; r[i][2] += v[i][2]*dt\n",
    "    K = 0.0; U = 0.0\n",
    "    for i in prange(nobj):\n",
    "        # Sum the total kinectic energy\n",
    "        K += 0.5*m[i]*(v[i][0]**2 + v[i][1]**2 + v[i][2]**2)\n",
    "        for j in range(nobj):\n",
    "            if (i < j):\n",
    "                # Sum the total potential energy\n",
    "                U += (-G*m[i]*m[j])/math.sqrt((r[j][0] - r[i][0])**2 + (r[j][1] - r[i][1])**2 + \n",
    "                                              (r[j][2] - r[i][2])**2 + sft**2)\n",
    "    return K, U"
   ]
  },
  {
   "cell_type": "code",
   "execution_count": 13,
   "metadata": {
    "ExecuteTime": {
     "end_time": "2019-02-16T00:17:46.804035Z",
     "start_time": "2019-02-16T00:17:46.787044Z"
    },
    "hidden": true
   },
   "outputs": [],
   "source": [
    "@njit\n",
    "def gravitationalNbody_NumPy_NumbaCPU(r, v, a, m, nobj, ninter, dt):\n",
    "    for inter in range(ninter):\n",
    "        # zero the a acceleration\n",
    "        a = np.zeros((nobj, 3))\n",
    "        for i in range(nobj):\n",
    "            # update the a acceleration\n",
    "            dr = r[i] - r\n",
    "            dsq = np.sum(dr*dr, axis=1) + sft*sft\n",
    "            gA = (G*m[i])/(dsq*np.sqrt(dsq))\n",
    "            a += (dr.T*gA).T\n",
    "        # update the v velocity\n",
    "        v += a*dt\n",
    "        # update the r position\n",
    "        r += v*dt\n",
    "    K = np.sum(0.5*m*np.sum(v*v, axis=1))\n",
    "    U = 0.0\n",
    "    for i in prange(nobj):\n",
    "        for j in range(nobj):\n",
    "            if (i < j):\n",
    "                # Sum the total potential energy\n",
    "                U += (-G*m[i]*m[j])/math.sqrt((r[j][0] - r[i][0])**2 + (r[j][1] - r[i][1])**2 + \n",
    "                                              (r[j][2] - r[i][2])**2 + sft**2)\n",
    "    return K, U"
   ]
  },
  {
   "cell_type": "code",
   "execution_count": 14,
   "metadata": {
    "ExecuteTime": {
     "end_time": "2019-02-16T00:17:46.819082Z",
     "start_time": "2019-02-16T00:17:46.806252Z"
    },
    "code_folding": [],
    "hidden": true
   },
   "outputs": [],
   "source": [
    "@njit(parallel=True)\n",
    "def gravitationalNbody_NumPy_NumbaCPUparallel(r, v, a, m, nobj, ninter, dt):\n",
    "    for inter in range(ninter):\n",
    "        # zero the a acceleration\n",
    "        a = np.zeros((nobj, 3))\n",
    "        for i in prange(nobj):\n",
    "            # update the a acceleration\n",
    "            dr = r[i] - r\n",
    "            dsq = np.sum(dr*dr, axis=1) + sft*sft\n",
    "            gA = (G*m[i])/(dsq*np.sqrt(dsq))\n",
    "            a += (dr.T*gA).T\n",
    "        # update the v velocity\n",
    "        v += a*dt\n",
    "        # update the r position\n",
    "        r += v*dt\n",
    "    K = np.sum(0.5*m*np.sum(v*v, axis=1))\n",
    "    U = 0.0\n",
    "    for i in prange(nobj):\n",
    "        for j in range(nobj):\n",
    "            if (i < j):\n",
    "                # Sum the total potential energy\n",
    "                U += (-G*m[i]*m[j])/math.sqrt((r[j][0] - r[i][0])**2 + (r[j][1] - r[i][1])**2 + \n",
    "                                              (r[j][2] - r[i][2])**2 + sft**2)\n",
    "    return K, U"
   ]
  },
  {
   "cell_type": "code",
   "execution_count": 15,
   "metadata": {
    "ExecuteTime": {
     "end_time": "2019-02-16T00:17:46.847758Z",
     "start_time": "2019-02-16T00:17:46.822273Z"
    },
    "code_folding": [],
    "hidden": true,
    "scrolled": true
   },
   "outputs": [],
   "source": [
    "# n_cube_edge : número de pontos l de cada aresta de um cubo\n",
    "# ninter : M, número de interações\n",
    "# dt : dt, intervalo entre interações\n",
    "def run_nbody(gravitationalNbodyfunction, n_cube_edge=10, ninter = 5, dt = 0.01, \n",
    "              flag_array=True, flag_compile=True, flag_verbose=False):\n",
    "    nbody_version = \"1.5.5\"\n",
    "\n",
    "    nobj = n_cube_edge**3 # define o número de objetos na simulação\n",
    "    if flag_array:\n",
    "        positions = np.zeros((nobj, 3))   # inicializa uma lista de N posições 3D, nulas inicialmente\n",
    "        velocities = np.zeros_like(positions)   # inicializa uma lista de N velocidades 3D, nulas inicialmente\n",
    "        accelerations = np.zeros_like(positions)   # inicializa uma lista de N acelerações 3D, nulas inicialmente\n",
    "        masses = 1e9*np.ones(nobj)   # inicializa uma lista de N massas, aqui iguais a 10^6 kg\n",
    "    else:\n",
    "        positions = [[0., 0., 0.] for i in range(nobj)]   # inicializa uma lista de N de objetos para posição e massa, nulas inicialmente\n",
    "        velocities = [[0., 0., 0.] for i in range(nobj)]   # inicializa uma lista de N velocidades 3D, nulas inicialmente\n",
    "        accelerations = [[0., 0., 0.] for i in range(nobj)]   # inicializa uma lista de N acelerações 3D, nulas inicialmente\n",
    "        masses = [1e9]*nobj   # inicializa uma lista de N massas, aqui iguais a 10^6 kg\n",
    "    # Cria um cubo de l^3 pontos, onde cada aresta tem l pontos   \n",
    "    scale = 1.0  # escala do cubo, com comprimento da aresta = scale*n_cube_edge\n",
    "    n_half_cube_edge = int(n_cube_edge/2)\n",
    "    for i in range(n_cube_edge):\n",
    "        for j in range(n_cube_edge):\n",
    "            for k in range(n_cube_edge):\n",
    "                positions[k + j*n_cube_edge + i*n_cube_edge*n_cube_edge] = [(i - n_half_cube_edge)*scale, \n",
    "                                                                            (j - n_half_cube_edge)*scale,\n",
    "                                                                            (k - n_half_cube_edge)*scale]                \n",
    "    if flag_compile:\n",
    "        # To Numba compile the function 1st time before calling with full data\n",
    "        positions_backup = positions.copy()\n",
    "        velocities_backup = velocities.copy()\n",
    "        accelerations_backup = accelerations.copy()\n",
    "        print(\"N-Body (C) Flavio Manoel, v{}\".format(nbody_version))\n",
    "        print(\"N = {} corpos, dt = {}s, M = {} interações\".format(nobj, dt, ninter))\n",
    "        start = timer()\n",
    "        Kf, Uf = gravitationalNbodyfunction(positions, velocities, accelerations, masses, nobj, ninter, dt)\n",
    "        end = timer()\n",
    "        print(\"Após {} passos, {:.4f}s, Ef = {:.6f}, Kf = {:.6f}, Uf = {:.6f}\".format(ninter, ninter*dt, Kf + Uf, Kf, Uf))\n",
    "        dt_compile_run = end - start\n",
    "        print(\"Código executado em {:.6f} s\\n\".format(dt_compile_run))\n",
    "        positions = positions_backup.copy(); velocities = velocities_backup.copy(); accelerations = accelerations_backup.copy()\n",
    "    else:\n",
    "        dt_compile_run = 0.0\n",
    "        \n",
    "    print(\"N-Body (C) Flavio Manoel, v{}\".format(nbody_version))\n",
    "    print(\"N = {} corpos, dt = {}s, M = {} interações\".format(nobj, dt, ninter))\n",
    "    if flag_verbose:\n",
    "        print(\"Posições = {}\\nVelocidades = {}\\nAcelerações = {}\\nMassas = {}\\n\".format(positions, \n",
    "              velocities, accelerations, masses))\n",
    "    Ki, Ui = gravitationalNbodyfunction(positions, velocities, accelerations, masses, nobj, 0, dt)\n",
    "    print(\"Ei = {}, Ki = {}, Ui = {}\".format(Ki + Ui, Ki, Ui))\n",
    "    start = timer()\n",
    "    Kf, Uf = gravitationalNbodyfunction(positions, velocities, accelerations, masses, nobj, ninter, dt)\n",
    "    end = timer()\n",
    "    erro_perc = 100.0*(Kf + Uf - (Ki + Ui))/(Ki + Ui)\n",
    "    print(\"Após {} passos, {:.4f}s :\\nEf = {}, Kf = {}, Uf = {}, erro em E = {}%\".format(ninter, \n",
    "           ninter*dt, Kf + Uf, Kf, Uf, erro_perc))\n",
    "    dt_run = end - start\n",
    "    print(\"Código executado em {:.6f} s\".format(dt_run))\n",
    "    if flag_verbose:\n",
    "        print(\"\\nPositions = {}\\nVelocities = {}\\nAccelerations = {}\".format(positions, velocities, \n",
    "                                                                             accelerations))\n",
    "    return dt_compile_run, dt_run, erro_perc"
   ]
  },
  {
   "cell_type": "markdown",
   "metadata": {},
   "source": [
    "### Teste de nbody em Python puro"
   ]
  },
  {
   "cell_type": "code",
   "execution_count": 32,
   "metadata": {
    "ExecuteTime": {
     "end_time": "2019-02-16T00:17:54.627775Z",
     "start_time": "2019-02-16T00:17:46.849995Z"
    }
   },
   "outputs": [
    {
     "name": "stdout",
     "output_type": "stream",
     "text": [
      "N-Body (C) Flavio Manoel, v1.5.5\n",
      "N = 1000 corpos, dt = 0.001s, M = 500 interações\n",
      "Ei = -6221418016861.29, Ki = 0.0, Ui = -6221418016861.29\n",
      "Após 500 passos, 0.5000s :\n",
      "Ef = -6221859489860.983, Kf = 211027971915.90527, Uf = -6432887461776.889, erro em E = 0.007096018922002654%\n",
      "Código executado em 312.768374 s\n"
     ]
    }
   ],
   "source": [
    "t_all_py, t_py, erro_py = run_nbody(gravitationalNbody_NumbaCPU.py_func, n_cube_edge=10, ninter = 500, \n",
    "                                    dt = 0.001, flag_array=False, flag_compile=False)"
   ]
  },
  {
   "cell_type": "markdown",
   "metadata": {},
   "source": [
    "### Teste de nbody em Python (com NumPy arrays)"
   ]
  },
  {
   "cell_type": "code",
   "execution_count": 33,
   "metadata": {
    "ExecuteTime": {
     "end_time": "2019-02-16T00:18:24.192691Z",
     "start_time": "2019-02-16T00:17:54.630170Z"
    }
   },
   "outputs": [
    {
     "name": "stdout",
     "output_type": "stream",
     "text": [
      "N-Body (C) Flavio Manoel, v1.5.5\n",
      "N = 1000 corpos, dt = 0.001s, M = 500 interações\n",
      "Ei = -6221418016861.29, Ki = 0.0, Ui = -6221418016861.29\n",
      "Após 500 passos, 0.5000s :\n",
      "Ef = -6221859489860.983, Kf = 211027971915.90527, Uf = -6432887461776.889, erro em E = 0.007096018922002654%\n",
      "Código executado em 1354.979158 s\n"
     ]
    }
   ],
   "source": [
    "t_all_py_a, t_py_a, erro_py_a = run_nbody(gravitationalNbody_NumbaCPU.py_func, n_cube_edge=10, \n",
    "                                          ninter = 500, dt = 0.001, flag_compile=False)"
   ]
  },
  {
   "cell_type": "markdown",
   "metadata": {},
   "source": [
    "### Teste de nbody em Python NumPy"
   ]
  },
  {
   "cell_type": "code",
   "execution_count": 34,
   "metadata": {
    "ExecuteTime": {
     "end_time": "2019-02-16T00:18:29.661543Z",
     "start_time": "2019-02-16T00:18:24.198467Z"
    }
   },
   "outputs": [
    {
     "name": "stdout",
     "output_type": "stream",
     "text": [
      "N-Body (C) Flavio Manoel, v1.5.5\n",
      "N = 1000 corpos, dt = 0.001s, M = 500 interações\n",
      "Ei = -6221418016861.29, Ki = 0.0, Ui = -6221418016861.29\n",
      "Após 500 passos, 0.5000s :\n",
      "Ef = -6221859489860.984, Kf = 211027971915.9048, Uf = -6432887461776.889, erro em E = 0.0070960189220183505%\n",
      "Código executado em 23.631115 s\n"
     ]
    }
   ],
   "source": [
    "t_all_np, t_np, erro_np = run_nbody(gravitationalNbody_NumPy_NumbaCPU.py_func, n_cube_edge=10, \n",
    "                                    ninter = 500, dt = 0.001, flag_compile=False)"
   ]
  },
  {
   "cell_type": "markdown",
   "metadata": {},
   "source": [
    "### Teste de nbody em Python Numba CPU"
   ]
  },
  {
   "cell_type": "code",
   "execution_count": 35,
   "metadata": {
    "ExecuteTime": {
     "end_time": "2019-02-16T00:18:30.785857Z",
     "start_time": "2019-02-16T00:18:29.665272Z"
    }
   },
   "outputs": [
    {
     "name": "stdout",
     "output_type": "stream",
     "text": [
      "N-Body (C) Flavio Manoel, v1.5.5\n",
      "N = 1000 corpos, dt = 0.001s, M = 500 interações\n",
      "Após 500 passos, 0.5000s, Ef = -6221859489860.983398, Kf = 211027971915.905273, Uf = -6432887461776.888672\n",
      "Código executado em 2.711705 s\n",
      "\n",
      "N-Body (C) Flavio Manoel, v1.5.5\n",
      "N = 1000 corpos, dt = 0.001s, M = 500 interações\n",
      "Ei = -6221418016861.29, Ki = 0.0, Ui = -6221418016861.29\n",
      "Após 500 passos, 0.5000s :\n",
      "Ef = -6221859489860.983, Kf = 211027971915.90527, Uf = -6432887461776.889, erro em E = 0.007096018922002654%\n",
      "Código executado em 2.330788 s\n"
     ]
    }
   ],
   "source": [
    "t_all_nb, t_nb, erro_nb = run_nbody(gravitationalNbody_NumbaCPU, n_cube_edge=10, ninter = 500, dt = 0.001)"
   ]
  },
  {
   "cell_type": "markdown",
   "metadata": {},
   "source": [
    "### Teste de nbody em NumPy Numba CPU"
   ]
  },
  {
   "cell_type": "code",
   "execution_count": 36,
   "metadata": {
    "ExecuteTime": {
     "end_time": "2019-02-16T00:18:33.427064Z",
     "start_time": "2019-02-16T00:18:30.788426Z"
    }
   },
   "outputs": [
    {
     "name": "stdout",
     "output_type": "stream",
     "text": [
      "N-Body (C) Flavio Manoel, v1.5.5\n",
      "N = 1000 corpos, dt = 0.001s, M = 500 interações\n",
      "Após 500 passos, 0.5000s, Ef = -6221859489860.983398, Kf = 211027971915.905273, Uf = -6432887461776.888672\n",
      "Código executado em 9.067359 s\n",
      "\n",
      "N-Body (C) Flavio Manoel, v1.5.5\n",
      "N = 1000 corpos, dt = 0.001s, M = 500 interações\n",
      "Ei = -6221418016861.29, Ki = 0.0, Ui = -6221418016861.29\n",
      "Após 500 passos, 0.5000s :\n",
      "Ef = -6221859489860.983, Kf = 211027971915.90527, Uf = -6432887461776.889, erro em E = 0.007096018922002654%\n",
      "Código executado em 7.928783 s\n"
     ]
    }
   ],
   "source": [
    "t_all_np_nb, t_np_nb, erro_np_nb = run_nbody(gravitationalNbody_NumPy_NumbaCPU, n_cube_edge=10, \n",
    "                                             ninter = 500, dt = 0.001)"
   ]
  },
  {
   "cell_type": "markdown",
   "metadata": {},
   "source": [
    "### Teste de nbody em Python Numba CPU //"
   ]
  },
  {
   "cell_type": "code",
   "execution_count": 37,
   "metadata": {
    "ExecuteTime": {
     "end_time": "2019-02-16T00:18:37.576298Z",
     "start_time": "2019-02-16T00:18:33.429651Z"
    }
   },
   "outputs": [
    {
     "name": "stdout",
     "output_type": "stream",
     "text": [
      "N-Body (C) Flavio Manoel, v1.5.5\n",
      "N = 1000 corpos, dt = 0.001s, M = 500 interações\n",
      "Após 500 passos, 0.5000s, Ef = -6221841961970.263672, Kf = 211054625605.324768, Uf = -6432896587575.588867\n",
      "Código executado em 0.416550 s\n",
      "\n",
      "N-Body (C) Flavio Manoel, v1.5.5\n",
      "N = 1000 corpos, dt = 0.001s, M = 500 interações\n",
      "Ei = -6221418016867.902, Ki = 0.0, Ui = -6221418016867.902\n",
      "Após 500 passos, 0.5000s :\n",
      "Ef = -6221841962056.772, Kf = 211054625695.62173, Uf = -6432896587752.395, erro em E = 0.006814285549061165%\n",
      "Código executado em 0.413628 s\n"
     ]
    }
   ],
   "source": [
    "t_all_nb_parallel, t_nb_parallel, erro_nb_parallel = run_nbody(gravitationalNbody_NumbaCPUparallel, \n",
    "                                                               n_cube_edge=10, ninter = 500, dt = 0.001)"
   ]
  },
  {
   "cell_type": "markdown",
   "metadata": {},
   "source": [
    "### Teste de nbody em NumPy Numba CPU //"
   ]
  },
  {
   "cell_type": "code",
   "execution_count": 38,
   "metadata": {
    "ExecuteTime": {
     "end_time": "2019-02-16T00:18:45.677734Z",
     "start_time": "2019-02-16T00:18:37.578477Z"
    }
   },
   "outputs": [
    {
     "name": "stdout",
     "output_type": "stream",
     "text": [
      "N-Body (C) Flavio Manoel, v1.5.5\n",
      "N = 1000 corpos, dt = 0.001s, M = 500 interações\n",
      "Após 500 passos, 0.5000s, Ef = -6221859489861.064453, Kf = 211027971915.904785, Uf = -6432887461776.969727\n",
      "Código executado em 6.163906 s\n",
      "\n",
      "N-Body (C) Flavio Manoel, v1.5.5\n",
      "N = 1000 corpos, dt = 0.001s, M = 500 interações\n",
      "Ei = -6221418016867.902, Ki = 0.0, Ui = -6221418016867.902\n",
      "Após 500 passos, 0.5000s :\n",
      "Ef = -6221859489861.064, Kf = 211027971915.9048, Uf = -6432887461776.97, erro em E = 0.007096018817015025%\n",
      "Código executado em 1.421471 s\n"
     ]
    }
   ],
   "source": [
    "t_all_np_nb_parallel, t_np_nb_parallel, erro_np_nb_parallel = run_nbody(\n",
    "                            gravitationalNbody_NumPy_NumbaCPUparallel, n_cube_edge=10, ninter = 500, dt = 0.001)"
   ]
  },
  {
   "cell_type": "markdown",
   "metadata": {},
   "source": [
    "### Resultados e comparações"
   ]
  },
  {
   "cell_type": "markdown",
   "metadata": {},
   "source": [
    "Speed up of pure Python respect to Python (with NumPy arrays)  :"
   ]
  },
  {
   "cell_type": "code",
   "execution_count": 39,
   "metadata": {
    "ExecuteTime": {
     "end_time": "2019-02-16T00:18:45.683559Z",
     "start_time": "2019-02-16T00:18:45.679538Z"
    }
   },
   "outputs": [
    {
     "data": {
      "text/plain": [
       "4.3322128112051965"
      ]
     },
     "execution_count": 39,
     "metadata": {},
     "output_type": "execute_result"
    }
   ],
   "source": [
    "t_py_a / t_py"
   ]
  },
  {
   "cell_type": "markdown",
   "metadata": {},
   "source": [
    "Speed up of Python NumPy respect to pure Python :"
   ]
  },
  {
   "cell_type": "code",
   "execution_count": 40,
   "metadata": {
    "ExecuteTime": {
     "end_time": "2019-02-16T00:18:45.696792Z",
     "start_time": "2019-02-16T00:18:45.685447Z"
    }
   },
   "outputs": [
    {
     "data": {
      "text/plain": [
       "13.235447240345593"
      ]
     },
     "execution_count": 40,
     "metadata": {},
     "output_type": "execute_result"
    }
   ],
   "source": [
    "t_py / t_np"
   ]
  },
  {
   "cell_type": "markdown",
   "metadata": {},
   "source": [
    "Speed up of Python Numba CPU (serial) with respect to pure Python :"
   ]
  },
  {
   "cell_type": "code",
   "execution_count": 41,
   "metadata": {
    "ExecuteTime": {
     "end_time": "2019-02-16T00:18:45.705095Z",
     "start_time": "2019-02-16T00:18:45.700671Z"
    }
   },
   "outputs": [
    {
     "data": {
      "text/plain": [
       "134.18999828526964"
      ]
     },
     "execution_count": 41,
     "metadata": {},
     "output_type": "execute_result"
    }
   ],
   "source": [
    "t_py / t_nb"
   ]
  },
  {
   "cell_type": "markdown",
   "metadata": {},
   "source": [
    "Speed up of Python Numba CPU (serial) with respect to Python (with NumPy arrays) :"
   ]
  },
  {
   "cell_type": "code",
   "execution_count": 42,
   "metadata": {
    "ExecuteTime": {
     "end_time": "2019-02-16T00:18:45.713574Z",
     "start_time": "2019-02-16T00:18:45.707528Z"
    }
   },
   "outputs": [
    {
     "data": {
      "text/plain": [
       "581.3396297070484"
      ]
     },
     "execution_count": 42,
     "metadata": {},
     "output_type": "execute_result"
    }
   ],
   "source": [
    "t_py_a / t_nb"
   ]
  },
  {
   "cell_type": "markdown",
   "metadata": {},
   "source": [
    "Speed up of NumPy Numba CPU (serial) with respect to Python NumPy :"
   ]
  },
  {
   "cell_type": "code",
   "execution_count": 43,
   "metadata": {
    "ExecuteTime": {
     "end_time": "2019-02-16T00:18:45.721829Z",
     "start_time": "2019-02-16T00:18:45.717476Z"
    }
   },
   "outputs": [
    {
     "data": {
      "text/plain": [
       "2.980421359917387"
      ]
     },
     "execution_count": 43,
     "metadata": {},
     "output_type": "execute_result"
    }
   ],
   "source": [
    "t_np / t_np_nb"
   ]
  },
  {
   "cell_type": "markdown",
   "metadata": {},
   "source": [
    "Speed up of Python Numba CPU // with respect to pure Python :"
   ]
  },
  {
   "cell_type": "code",
   "execution_count": 44,
   "metadata": {
    "ExecuteTime": {
     "end_time": "2019-02-16T00:18:45.733976Z",
     "start_time": "2019-02-16T00:18:45.724218Z"
    }
   },
   "outputs": [
    {
     "data": {
      "text/plain": [
       "756.1585696769041"
      ]
     },
     "execution_count": 44,
     "metadata": {},
     "output_type": "execute_result"
    }
   ],
   "source": [
    "t_py / t_nb_parallel"
   ]
  },
  {
   "cell_type": "markdown",
   "metadata": {},
   "source": [
    "Speed up of Python Numba CPU // with respect to Python (with NumPy arrays) :"
   ]
  },
  {
   "cell_type": "code",
   "execution_count": 45,
   "metadata": {
    "ExecuteTime": {
     "end_time": "2019-02-16T00:18:45.744626Z",
     "start_time": "2019-02-16T00:18:45.736857Z"
    }
   },
   "outputs": [
    {
     "data": {
      "text/plain": [
       "3275.839842856881"
      ]
     },
     "execution_count": 45,
     "metadata": {},
     "output_type": "execute_result"
    }
   ],
   "source": [
    "t_py_a / t_nb_parallel"
   ]
  },
  {
   "cell_type": "markdown",
   "metadata": {},
   "source": [
    "Speed up of NumPy Numba CPU // with respect to Python NumPy :"
   ]
  },
  {
   "cell_type": "code",
   "execution_count": 46,
   "metadata": {
    "ExecuteTime": {
     "end_time": "2019-02-16T00:18:45.755936Z",
     "start_time": "2019-02-16T00:18:45.748445Z"
    }
   },
   "outputs": [
    {
     "data": {
      "text/plain": [
       "16.62440358204243"
      ]
     },
     "execution_count": 46,
     "metadata": {},
     "output_type": "execute_result"
    }
   ],
   "source": [
    "t_np / t_np_nb_parallel"
   ]
  },
  {
   "cell_type": "markdown",
   "metadata": {},
   "source": [
    "Speed up of Python Numba CPU // with respect to Python Numba CPU :"
   ]
  },
  {
   "cell_type": "code",
   "execution_count": 47,
   "metadata": {
    "ExecuteTime": {
     "end_time": "2019-02-16T00:18:45.764521Z",
     "start_time": "2019-02-16T00:18:45.758854Z"
    }
   },
   "outputs": [
    {
     "data": {
      "text/plain": [
       "5.634984569188339"
      ]
     },
     "execution_count": 47,
     "metadata": {},
     "output_type": "execute_result"
    }
   ],
   "source": [
    "t_nb / t_nb_parallel  # speed-up vs. Numba CPU function"
   ]
  },
  {
   "cell_type": "markdown",
   "metadata": {},
   "source": [
    "Speed up of NumPy Numba CPU // with respect to NumPy Numba CPU :"
   ]
  },
  {
   "cell_type": "code",
   "execution_count": 48,
   "metadata": {
    "ExecuteTime": {
     "end_time": "2019-02-16T00:18:45.777484Z",
     "start_time": "2019-02-16T00:18:45.769186Z"
    }
   },
   "outputs": [
    {
     "data": {
      "text/plain": [
       "5.577870231913528"
      ]
     },
     "execution_count": 48,
     "metadata": {},
     "output_type": "execute_result"
    }
   ],
   "source": [
    "t_np_nb / t_np_nb_parallel  # speed-up vs. Numba CPU function"
   ]
  }
 ],
 "metadata": {
  "kernelspec": {
   "display_name": "Python 3",
   "language": "python",
   "name": "python3"
  },
  "language_info": {
   "codemirror_mode": {
    "name": "ipython",
    "version": 3
   },
   "file_extension": ".py",
   "mimetype": "text/x-python",
   "name": "python",
   "nbconvert_exporter": "python",
   "pygments_lexer": "ipython3",
   "version": "3.7.1"
  }
 },
 "nbformat": 4,
 "nbformat_minor": 2
}
